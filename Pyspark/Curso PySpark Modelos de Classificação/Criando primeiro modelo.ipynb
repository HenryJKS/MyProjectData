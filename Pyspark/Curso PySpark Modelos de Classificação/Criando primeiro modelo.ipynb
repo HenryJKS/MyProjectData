{
 "cells": [
  {
   "cell_type": "code",
   "execution_count": 1,
   "id": "49e84135",
   "metadata": {},
   "outputs": [],
   "source": [
    "import findspark\n",
    "findspark.init()"
   ]
  },
  {
   "cell_type": "code",
   "execution_count": 2,
   "id": "6378e042",
   "metadata": {},
   "outputs": [],
   "source": [
    "from pyspark.sql import SparkSession"
   ]
  },
  {
   "cell_type": "code",
   "execution_count": 3,
   "id": "53d2acb4",
   "metadata": {},
   "outputs": [],
   "source": [
    "spark = SparkSession.builder\\\n",
    "    .master('local[*]')\\\n",
    "    .appName('Classificacao com Spark')\\\n",
    "    .config(\"spark.driver.bindAddress\", \"localhost\") \\\n",
    "    .config(\"spark.ui.port\", \"4050\") \\\n",
    "    .config(\"spark.driver.memory\", \"4g\") \\\n",
    "    .config(\"spark.driver.host\", \"localhost\") \\\n",
    "    .config(\"spark.driver.bindAddress\", \"127.0.0.1\") \\\n",
    "    .getOrCreate()"
   ]
  },
  {
   "cell_type": "code",
   "execution_count": 4,
   "id": "0fb66164",
   "metadata": {},
   "outputs": [
    {
     "data": {
      "text/html": [
       "\n",
       "            <div>\n",
       "                <p><b>SparkSession - in-memory</b></p>\n",
       "                \n",
       "        <div>\n",
       "            <p><b>SparkContext</b></p>\n",
       "\n",
       "            <p><a href=\"http://localhost:4050\">Spark UI</a></p>\n",
       "\n",
       "            <dl>\n",
       "              <dt>Version</dt>\n",
       "                <dd><code>v3.4.1</code></dd>\n",
       "              <dt>Master</dt>\n",
       "                <dd><code>local[*]</code></dd>\n",
       "              <dt>AppName</dt>\n",
       "                <dd><code>Classificacao com Spark</code></dd>\n",
       "            </dl>\n",
       "        </div>\n",
       "        \n",
       "            </div>\n",
       "        "
      ],
      "text/plain": [
       "<pyspark.sql.session.SparkSession at 0x234bb0b5e10>"
      ]
     },
     "execution_count": 4,
     "metadata": {},
     "output_type": "execute_result"
    }
   ],
   "source": [
    "spark"
   ]
  },
  {
   "cell_type": "code",
   "execution_count": 5,
   "id": "18288422",
   "metadata": {},
   "outputs": [],
   "source": [
    "dataset = spark.read.parquet('Dataset Modelo/', inferSchema = True)"
   ]
  },
  {
   "cell_type": "code",
   "execution_count": 6,
   "id": "dd1a4d32",
   "metadata": {},
   "outputs": [
    {
     "name": "stdout",
     "output_type": "stream",
     "text": [
      "root\n",
      " |-- id: integer (nullable = true)\n",
      " |-- Mais65anos: integer (nullable = true)\n",
      " |-- MesesDeContrato: integer (nullable = true)\n",
      " |-- MesesCobrados: double (nullable = true)\n",
      " |-- Churn: integer (nullable = true)\n",
      " |-- Conjuge: integer (nullable = true)\n",
      " |-- Dependentes: integer (nullable = true)\n",
      " |-- TelefoneFixo: integer (nullable = true)\n",
      " |-- MaisDeUmaLinhaTelefonica: integer (nullable = true)\n",
      " |-- SegurancaOnline: integer (nullable = true)\n",
      " |-- BackupOnline: integer (nullable = true)\n",
      " |-- SeguroDispositivo: integer (nullable = true)\n",
      " |-- SuporteTecnico: integer (nullable = true)\n",
      " |-- TVaCabo: integer (nullable = true)\n",
      " |-- StreamingFilmes: integer (nullable = true)\n",
      " |-- ContaCorreio: integer (nullable = true)\n",
      " |-- Internet_DSL: integer (nullable = true)\n",
      " |-- Internet_FibraOptica: integer (nullable = true)\n",
      " |-- Internet_Nao: integer (nullable = true)\n",
      " |-- TipoContrato_Mensalmente: integer (nullable = true)\n",
      " |-- TipoContrato_UmAno: integer (nullable = true)\n",
      " |-- TipoContrato_DoisAnos: integer (nullable = true)\n",
      " |-- MetodoPagamento_DebitoEmConta: integer (nullable = true)\n",
      " |-- MetodoPagamento_CartaoCredito: integer (nullable = true)\n",
      " |-- MetodoPagamento_BoletoEletronico: integer (nullable = true)\n",
      " |-- MetodoPagamento_Boleto: integer (nullable = true)\n",
      "\n"
     ]
    }
   ],
   "source": [
    "dataset.printSchema()"
   ]
  },
  {
   "cell_type": "code",
   "execution_count": 7,
   "id": "d0693402",
   "metadata": {},
   "outputs": [
    {
     "data": {
      "text/html": [
       "<div>\n",
       "<style scoped>\n",
       "    .dataframe tbody tr th:only-of-type {\n",
       "        vertical-align: middle;\n",
       "    }\n",
       "\n",
       "    .dataframe tbody tr th {\n",
       "        vertical-align: top;\n",
       "    }\n",
       "\n",
       "    .dataframe thead th {\n",
       "        text-align: right;\n",
       "    }\n",
       "</style>\n",
       "<table border=\"1\" class=\"dataframe\">\n",
       "  <thead>\n",
       "    <tr style=\"text-align: right;\">\n",
       "      <th></th>\n",
       "      <th>id</th>\n",
       "      <th>Mais65anos</th>\n",
       "      <th>MesesDeContrato</th>\n",
       "      <th>MesesCobrados</th>\n",
       "      <th>Churn</th>\n",
       "      <th>Conjuge</th>\n",
       "      <th>Dependentes</th>\n",
       "      <th>TelefoneFixo</th>\n",
       "      <th>MaisDeUmaLinhaTelefonica</th>\n",
       "      <th>SegurancaOnline</th>\n",
       "      <th>...</th>\n",
       "      <th>Internet_DSL</th>\n",
       "      <th>Internet_FibraOptica</th>\n",
       "      <th>Internet_Nao</th>\n",
       "      <th>TipoContrato_Mensalmente</th>\n",
       "      <th>TipoContrato_UmAno</th>\n",
       "      <th>TipoContrato_DoisAnos</th>\n",
       "      <th>MetodoPagamento_DebitoEmConta</th>\n",
       "      <th>MetodoPagamento_CartaoCredito</th>\n",
       "      <th>MetodoPagamento_BoletoEletronico</th>\n",
       "      <th>MetodoPagamento_Boleto</th>\n",
       "    </tr>\n",
       "  </thead>\n",
       "  <tbody>\n",
       "    <tr>\n",
       "      <th>0</th>\n",
       "      <td>7982</td>\n",
       "      <td>0</td>\n",
       "      <td>1</td>\n",
       "      <td>45.305408</td>\n",
       "      <td>1</td>\n",
       "      <td>0</td>\n",
       "      <td>0</td>\n",
       "      <td>0</td>\n",
       "      <td>0</td>\n",
       "      <td>0</td>\n",
       "      <td>...</td>\n",
       "      <td>1</td>\n",
       "      <td>0</td>\n",
       "      <td>0</td>\n",
       "      <td>1</td>\n",
       "      <td>0</td>\n",
       "      <td>0</td>\n",
       "      <td>0</td>\n",
       "      <td>0</td>\n",
       "      <td>1</td>\n",
       "      <td>0</td>\n",
       "    </tr>\n",
       "    <tr>\n",
       "      <th>1</th>\n",
       "      <td>9465</td>\n",
       "      <td>0</td>\n",
       "      <td>60</td>\n",
       "      <td>103.614223</td>\n",
       "      <td>1</td>\n",
       "      <td>1</td>\n",
       "      <td>0</td>\n",
       "      <td>1</td>\n",
       "      <td>1</td>\n",
       "      <td>0</td>\n",
       "      <td>...</td>\n",
       "      <td>0</td>\n",
       "      <td>1</td>\n",
       "      <td>0</td>\n",
       "      <td>1</td>\n",
       "      <td>0</td>\n",
       "      <td>0</td>\n",
       "      <td>0</td>\n",
       "      <td>0</td>\n",
       "      <td>1</td>\n",
       "      <td>0</td>\n",
       "    </tr>\n",
       "    <tr>\n",
       "      <th>2</th>\n",
       "      <td>2122</td>\n",
       "      <td>0</td>\n",
       "      <td>12</td>\n",
       "      <td>75.850000</td>\n",
       "      <td>0</td>\n",
       "      <td>0</td>\n",
       "      <td>0</td>\n",
       "      <td>1</td>\n",
       "      <td>1</td>\n",
       "      <td>0</td>\n",
       "      <td>...</td>\n",
       "      <td>1</td>\n",
       "      <td>0</td>\n",
       "      <td>0</td>\n",
       "      <td>0</td>\n",
       "      <td>1</td>\n",
       "      <td>0</td>\n",
       "      <td>0</td>\n",
       "      <td>0</td>\n",
       "      <td>0</td>\n",
       "      <td>1</td>\n",
       "    </tr>\n",
       "    <tr>\n",
       "      <th>3</th>\n",
       "      <td>3997</td>\n",
       "      <td>0</td>\n",
       "      <td>69</td>\n",
       "      <td>61.450000</td>\n",
       "      <td>0</td>\n",
       "      <td>1</td>\n",
       "      <td>0</td>\n",
       "      <td>1</td>\n",
       "      <td>0</td>\n",
       "      <td>0</td>\n",
       "      <td>...</td>\n",
       "      <td>1</td>\n",
       "      <td>0</td>\n",
       "      <td>0</td>\n",
       "      <td>0</td>\n",
       "      <td>0</td>\n",
       "      <td>1</td>\n",
       "      <td>0</td>\n",
       "      <td>1</td>\n",
       "      <td>0</td>\n",
       "      <td>0</td>\n",
       "    </tr>\n",
       "    <tr>\n",
       "      <th>4</th>\n",
       "      <td>6654</td>\n",
       "      <td>0</td>\n",
       "      <td>7</td>\n",
       "      <td>86.500000</td>\n",
       "      <td>1</td>\n",
       "      <td>1</td>\n",
       "      <td>0</td>\n",
       "      <td>1</td>\n",
       "      <td>1</td>\n",
       "      <td>0</td>\n",
       "      <td>...</td>\n",
       "      <td>0</td>\n",
       "      <td>1</td>\n",
       "      <td>0</td>\n",
       "      <td>1</td>\n",
       "      <td>0</td>\n",
       "      <td>0</td>\n",
       "      <td>0</td>\n",
       "      <td>0</td>\n",
       "      <td>1</td>\n",
       "      <td>0</td>\n",
       "    </tr>\n",
       "    <tr>\n",
       "      <th>...</th>\n",
       "      <td>...</td>\n",
       "      <td>...</td>\n",
       "      <td>...</td>\n",
       "      <td>...</td>\n",
       "      <td>...</td>\n",
       "      <td>...</td>\n",
       "      <td>...</td>\n",
       "      <td>...</td>\n",
       "      <td>...</td>\n",
       "      <td>...</td>\n",
       "      <td>...</td>\n",
       "      <td>...</td>\n",
       "      <td>...</td>\n",
       "      <td>...</td>\n",
       "      <td>...</td>\n",
       "      <td>...</td>\n",
       "      <td>...</td>\n",
       "      <td>...</td>\n",
       "      <td>...</td>\n",
       "      <td>...</td>\n",
       "      <td>...</td>\n",
       "    </tr>\n",
       "    <tr>\n",
       "      <th>10343</th>\n",
       "      <td>1476</td>\n",
       "      <td>0</td>\n",
       "      <td>2</td>\n",
       "      <td>20.250000</td>\n",
       "      <td>0</td>\n",
       "      <td>0</td>\n",
       "      <td>0</td>\n",
       "      <td>1</td>\n",
       "      <td>0</td>\n",
       "      <td>0</td>\n",
       "      <td>...</td>\n",
       "      <td>0</td>\n",
       "      <td>0</td>\n",
       "      <td>1</td>\n",
       "      <td>1</td>\n",
       "      <td>0</td>\n",
       "      <td>0</td>\n",
       "      <td>0</td>\n",
       "      <td>0</td>\n",
       "      <td>0</td>\n",
       "      <td>1</td>\n",
       "    </tr>\n",
       "    <tr>\n",
       "      <th>10344</th>\n",
       "      <td>1138</td>\n",
       "      <td>0</td>\n",
       "      <td>11</td>\n",
       "      <td>65.150000</td>\n",
       "      <td>0</td>\n",
       "      <td>1</td>\n",
       "      <td>1</td>\n",
       "      <td>1</td>\n",
       "      <td>1</td>\n",
       "      <td>1</td>\n",
       "      <td>...</td>\n",
       "      <td>1</td>\n",
       "      <td>0</td>\n",
       "      <td>0</td>\n",
       "      <td>1</td>\n",
       "      <td>0</td>\n",
       "      <td>0</td>\n",
       "      <td>1</td>\n",
       "      <td>0</td>\n",
       "      <td>0</td>\n",
       "      <td>0</td>\n",
       "    </tr>\n",
       "    <tr>\n",
       "      <th>10345</th>\n",
       "      <td>5125</td>\n",
       "      <td>0</td>\n",
       "      <td>11</td>\n",
       "      <td>94.000000</td>\n",
       "      <td>1</td>\n",
       "      <td>1</td>\n",
       "      <td>0</td>\n",
       "      <td>1</td>\n",
       "      <td>1</td>\n",
       "      <td>0</td>\n",
       "      <td>...</td>\n",
       "      <td>0</td>\n",
       "      <td>1</td>\n",
       "      <td>0</td>\n",
       "      <td>1</td>\n",
       "      <td>0</td>\n",
       "      <td>0</td>\n",
       "      <td>0</td>\n",
       "      <td>0</td>\n",
       "      <td>1</td>\n",
       "      <td>0</td>\n",
       "    </tr>\n",
       "    <tr>\n",
       "      <th>10346</th>\n",
       "      <td>2376</td>\n",
       "      <td>0</td>\n",
       "      <td>11</td>\n",
       "      <td>61.250000</td>\n",
       "      <td>0</td>\n",
       "      <td>0</td>\n",
       "      <td>0</td>\n",
       "      <td>1</td>\n",
       "      <td>0</td>\n",
       "      <td>0</td>\n",
       "      <td>...</td>\n",
       "      <td>1</td>\n",
       "      <td>0</td>\n",
       "      <td>0</td>\n",
       "      <td>0</td>\n",
       "      <td>1</td>\n",
       "      <td>0</td>\n",
       "      <td>0</td>\n",
       "      <td>0</td>\n",
       "      <td>1</td>\n",
       "      <td>0</td>\n",
       "    </tr>\n",
       "    <tr>\n",
       "      <th>10347</th>\n",
       "      <td>6078</td>\n",
       "      <td>0</td>\n",
       "      <td>55</td>\n",
       "      <td>90.150000</td>\n",
       "      <td>0</td>\n",
       "      <td>1</td>\n",
       "      <td>0</td>\n",
       "      <td>1</td>\n",
       "      <td>1</td>\n",
       "      <td>1</td>\n",
       "      <td>...</td>\n",
       "      <td>1</td>\n",
       "      <td>0</td>\n",
       "      <td>0</td>\n",
       "      <td>0</td>\n",
       "      <td>1</td>\n",
       "      <td>0</td>\n",
       "      <td>0</td>\n",
       "      <td>0</td>\n",
       "      <td>1</td>\n",
       "      <td>0</td>\n",
       "    </tr>\n",
       "  </tbody>\n",
       "</table>\n",
       "<p>10348 rows × 26 columns</p>\n",
       "</div>"
      ],
      "text/plain": [
       "         id  Mais65anos  MesesDeContrato  MesesCobrados  Churn  Conjuge  \\\n",
       "0      7982           0                1      45.305408      1        0   \n",
       "1      9465           0               60     103.614223      1        1   \n",
       "2      2122           0               12      75.850000      0        0   \n",
       "3      3997           0               69      61.450000      0        1   \n",
       "4      6654           0                7      86.500000      1        1   \n",
       "...     ...         ...              ...            ...    ...      ...   \n",
       "10343  1476           0                2      20.250000      0        0   \n",
       "10344  1138           0               11      65.150000      0        1   \n",
       "10345  5125           0               11      94.000000      1        1   \n",
       "10346  2376           0               11      61.250000      0        0   \n",
       "10347  6078           0               55      90.150000      0        1   \n",
       "\n",
       "       Dependentes  TelefoneFixo  MaisDeUmaLinhaTelefonica  SegurancaOnline  \\\n",
       "0                0             0                         0                0   \n",
       "1                0             1                         1                0   \n",
       "2                0             1                         1                0   \n",
       "3                0             1                         0                0   \n",
       "4                0             1                         1                0   \n",
       "...            ...           ...                       ...              ...   \n",
       "10343            0             1                         0                0   \n",
       "10344            1             1                         1                1   \n",
       "10345            0             1                         1                0   \n",
       "10346            0             1                         0                0   \n",
       "10347            0             1                         1                1   \n",
       "\n",
       "       ...  Internet_DSL  Internet_FibraOptica  Internet_Nao  \\\n",
       "0      ...             1                     0             0   \n",
       "1      ...             0                     1             0   \n",
       "2      ...             1                     0             0   \n",
       "3      ...             1                     0             0   \n",
       "4      ...             0                     1             0   \n",
       "...    ...           ...                   ...           ...   \n",
       "10343  ...             0                     0             1   \n",
       "10344  ...             1                     0             0   \n",
       "10345  ...             0                     1             0   \n",
       "10346  ...             1                     0             0   \n",
       "10347  ...             1                     0             0   \n",
       "\n",
       "       TipoContrato_Mensalmente  TipoContrato_UmAno  TipoContrato_DoisAnos  \\\n",
       "0                             1                   0                      0   \n",
       "1                             1                   0                      0   \n",
       "2                             0                   1                      0   \n",
       "3                             0                   0                      1   \n",
       "4                             1                   0                      0   \n",
       "...                         ...                 ...                    ...   \n",
       "10343                         1                   0                      0   \n",
       "10344                         1                   0                      0   \n",
       "10345                         1                   0                      0   \n",
       "10346                         0                   1                      0   \n",
       "10347                         0                   1                      0   \n",
       "\n",
       "       MetodoPagamento_DebitoEmConta  MetodoPagamento_CartaoCredito  \\\n",
       "0                                  0                              0   \n",
       "1                                  0                              0   \n",
       "2                                  0                              0   \n",
       "3                                  0                              1   \n",
       "4                                  0                              0   \n",
       "...                              ...                            ...   \n",
       "10343                              0                              0   \n",
       "10344                              1                              0   \n",
       "10345                              0                              0   \n",
       "10346                              0                              0   \n",
       "10347                              0                              0   \n",
       "\n",
       "       MetodoPagamento_BoletoEletronico  MetodoPagamento_Boleto  \n",
       "0                                     1                       0  \n",
       "1                                     1                       0  \n",
       "2                                     0                       1  \n",
       "3                                     0                       0  \n",
       "4                                     1                       0  \n",
       "...                                 ...                     ...  \n",
       "10343                                 0                       1  \n",
       "10344                                 0                       0  \n",
       "10345                                 1                       0  \n",
       "10346                                 1                       0  \n",
       "10347                                 1                       0  \n",
       "\n",
       "[10348 rows x 26 columns]"
      ]
     },
     "execution_count": 7,
     "metadata": {},
     "output_type": "execute_result"
    }
   ],
   "source": [
    "dataset.toPandas()"
   ]
  },
  {
   "cell_type": "markdown",
   "id": "36b122d5",
   "metadata": {},
   "source": [
    "# Regressão Logistica"
   ]
  },
  {
   "cell_type": "markdown",
   "id": "e4f1d25d",
   "metadata": {},
   "source": [
    "##### A regressão logística é um método popular para prever uma resposta categórica, podemos prever um resultado binário usando regressão logiística binominal ou podemos prever um resultado multiclasse usando regressão logistica multinominal"
   ]
  },
  {
   "cell_type": "code",
   "execution_count": 8,
   "id": "d22ff3c9",
   "metadata": {},
   "outputs": [],
   "source": [
    "from pyspark.ml.feature import VectorAssembler"
   ]
  },
  {
   "cell_type": "code",
   "execution_count": 10,
   "id": "5cce2aee",
   "metadata": {},
   "outputs": [],
   "source": [
    "# Renomeando a coluna\n",
    "dataset = dataset.withColumnRenamed('Churn', 'label')"
   ]
  },
  {
   "cell_type": "code",
   "execution_count": 12,
   "id": "a24133ae",
   "metadata": {},
   "outputs": [
    {
     "data": {
      "text/html": [
       "<div>\n",
       "<style scoped>\n",
       "    .dataframe tbody tr th:only-of-type {\n",
       "        vertical-align: middle;\n",
       "    }\n",
       "\n",
       "    .dataframe tbody tr th {\n",
       "        vertical-align: top;\n",
       "    }\n",
       "\n",
       "    .dataframe thead th {\n",
       "        text-align: right;\n",
       "    }\n",
       "</style>\n",
       "<table border=\"1\" class=\"dataframe\">\n",
       "  <thead>\n",
       "    <tr style=\"text-align: right;\">\n",
       "      <th></th>\n",
       "      <th>id</th>\n",
       "      <th>Mais65anos</th>\n",
       "      <th>MesesDeContrato</th>\n",
       "      <th>MesesCobrados</th>\n",
       "      <th>label</th>\n",
       "      <th>Conjuge</th>\n",
       "      <th>Dependentes</th>\n",
       "      <th>TelefoneFixo</th>\n",
       "      <th>MaisDeUmaLinhaTelefonica</th>\n",
       "      <th>SegurancaOnline</th>\n",
       "      <th>...</th>\n",
       "      <th>Internet_DSL</th>\n",
       "      <th>Internet_FibraOptica</th>\n",
       "      <th>Internet_Nao</th>\n",
       "      <th>TipoContrato_Mensalmente</th>\n",
       "      <th>TipoContrato_UmAno</th>\n",
       "      <th>TipoContrato_DoisAnos</th>\n",
       "      <th>MetodoPagamento_DebitoEmConta</th>\n",
       "      <th>MetodoPagamento_CartaoCredito</th>\n",
       "      <th>MetodoPagamento_BoletoEletronico</th>\n",
       "      <th>MetodoPagamento_Boleto</th>\n",
       "    </tr>\n",
       "  </thead>\n",
       "  <tbody>\n",
       "    <tr>\n",
       "      <th>0</th>\n",
       "      <td>7982</td>\n",
       "      <td>0</td>\n",
       "      <td>1</td>\n",
       "      <td>45.305408</td>\n",
       "      <td>1</td>\n",
       "      <td>0</td>\n",
       "      <td>0</td>\n",
       "      <td>0</td>\n",
       "      <td>0</td>\n",
       "      <td>0</td>\n",
       "      <td>...</td>\n",
       "      <td>1</td>\n",
       "      <td>0</td>\n",
       "      <td>0</td>\n",
       "      <td>1</td>\n",
       "      <td>0</td>\n",
       "      <td>0</td>\n",
       "      <td>0</td>\n",
       "      <td>0</td>\n",
       "      <td>1</td>\n",
       "      <td>0</td>\n",
       "    </tr>\n",
       "  </tbody>\n",
       "</table>\n",
       "<p>1 rows × 26 columns</p>\n",
       "</div>"
      ],
      "text/plain": [
       "     id  Mais65anos  MesesDeContrato  MesesCobrados  label  Conjuge  \\\n",
       "0  7982           0                1      45.305408      1        0   \n",
       "\n",
       "   Dependentes  TelefoneFixo  MaisDeUmaLinhaTelefonica  SegurancaOnline  ...  \\\n",
       "0            0             0                         0                0  ...   \n",
       "\n",
       "   Internet_DSL  Internet_FibraOptica  Internet_Nao  TipoContrato_Mensalmente  \\\n",
       "0             1                     0             0                         1   \n",
       "\n",
       "   TipoContrato_UmAno  TipoContrato_DoisAnos  MetodoPagamento_DebitoEmConta  \\\n",
       "0                   0                      0                              0   \n",
       "\n",
       "   MetodoPagamento_CartaoCredito  MetodoPagamento_BoletoEletronico  \\\n",
       "0                              0                                 1   \n",
       "\n",
       "   MetodoPagamento_Boleto  \n",
       "0                       0  \n",
       "\n",
       "[1 rows x 26 columns]"
      ]
     },
     "execution_count": 12,
     "metadata": {},
     "output_type": "execute_result"
    }
   ],
   "source": [
    "dataset.limit(1).toPandas()"
   ]
  },
  {
   "cell_type": "code",
   "execution_count": 14,
   "id": "72242bdf",
   "metadata": {},
   "outputs": [],
   "source": [
    "# Precisamos criar as features, que são todas as colunas que serão usadas na previsão\n",
    "# Importante: O 'label' não pode estar na features, pois é o valor que precisamos descobrir\n",
    "X = dataset.columns\n",
    "X.remove('label')\n",
    "X.remove('id')"
   ]
  },
  {
   "cell_type": "code",
   "execution_count": 15,
   "id": "a0a851ff",
   "metadata": {},
   "outputs": [
    {
     "data": {
      "text/plain": [
       "['Mais65anos',\n",
       " 'MesesDeContrato',\n",
       " 'MesesCobrados',\n",
       " 'Conjuge',\n",
       " 'Dependentes',\n",
       " 'TelefoneFixo',\n",
       " 'MaisDeUmaLinhaTelefonica',\n",
       " 'SegurancaOnline',\n",
       " 'BackupOnline',\n",
       " 'SeguroDispositivo',\n",
       " 'SuporteTecnico',\n",
       " 'TVaCabo',\n",
       " 'StreamingFilmes',\n",
       " 'ContaCorreio',\n",
       " 'Internet_DSL',\n",
       " 'Internet_FibraOptica',\n",
       " 'Internet_Nao',\n",
       " 'TipoContrato_Mensalmente',\n",
       " 'TipoContrato_UmAno',\n",
       " 'TipoContrato_DoisAnos',\n",
       " 'MetodoPagamento_DebitoEmConta',\n",
       " 'MetodoPagamento_CartaoCredito',\n",
       " 'MetodoPagamento_BoletoEletronico',\n",
       " 'MetodoPagamento_Boleto']"
      ]
     },
     "execution_count": 15,
     "metadata": {},
     "output_type": "execute_result"
    }
   ],
   "source": [
    "X"
   ]
  },
  {
   "cell_type": "code",
   "execution_count": 16,
   "id": "8b4e01f5",
   "metadata": {},
   "outputs": [],
   "source": [
    "assembler = VectorAssembler(inputCols=X, outputCol='features')"
   ]
  },
  {
   "cell_type": "code",
   "execution_count": 20,
   "id": "c9629b32",
   "metadata": {},
   "outputs": [],
   "source": [
    "# No transform passamos o dataset que é usada para previsão, e faremos o select com as variaveis que criamos\n",
    "dataset_preparado = assembler.transform(dataset).select('features', 'label')"
   ]
  },
  {
   "cell_type": "code",
   "execution_count": 23,
   "id": "72581e86",
   "metadata": {},
   "outputs": [
    {
     "name": "stdout",
     "output_type": "stream",
     "text": [
      "+-----------------------------------------------------------------------------------------------------------+-----+\n",
      "|features                                                                                                   |label|\n",
      "+-----------------------------------------------------------------------------------------------------------+-----+\n",
      "|(24,[1,2,11,12,13,14,17,22],[1.0,45.30540797610398,1.0,1.0,1.0,1.0,1.0,1.0])                               |1    |\n",
      "|(24,[1,2,3,5,6,8,9,11,12,13,15,17,22],[60.0,103.6142230120257,1.0,1.0,1.0,1.0,1.0,1.0,1.0,1.0,1.0,1.0,1.0])|1    |\n",
      "|(24,[1,2,5,6,10,11,12,13,14,18,23],[12.0,75.85,1.0,1.0,1.0,1.0,1.0,1.0,1.0,1.0,1.0])                       |0    |\n",
      "|(24,[1,2,3,5,8,12,13,14,19,21],[69.0,61.45,1.0,1.0,1.0,1.0,1.0,1.0,1.0,1.0])                               |0    |\n",
      "|(24,[1,2,3,5,6,11,13,15,17,22],[7.0,86.5,1.0,1.0,1.0,1.0,1.0,1.0,1.0,1.0])                                 |1    |\n",
      "|(24,[1,2,5,6,12,13,15,17,22],[14.0,85.03742670311915,1.0,1.0,1.0,1.0,1.0,1.0,1.0])                         |1    |\n",
      "|(24,[1,2,3,5,6,8,9,10,11,12,13,15,18,20],[57.0,109.4,1.0,1.0,1.0,1.0,1.0,1.0,1.0,1.0,1.0,1.0,1.0,1.0])     |0    |\n",
      "|(24,[1,2,5,6,15,17,23],[18.0,74.15,1.0,1.0,1.0,1.0,1.0])                                                   |0    |\n",
      "|(24,[1,2,3,5,7,8,10,14,17,23],[28.0,60.9,1.0,1.0,1.0,1.0,1.0,1.0,1.0,1.0])                                 |0    |\n",
      "|(24,[1,2,3,5,12,13,15,17,22],[46.0,80.8824189403559,1.0,1.0,1.0,1.0,1.0,1.0,1.0])                          |1    |\n",
      "+-----------------------------------------------------------------------------------------------------------+-----+\n",
      "only showing top 10 rows\n",
      "\n"
     ]
    }
   ],
   "source": [
    "dataset_preparado.show(10, False)"
   ]
  },
  {
   "cell_type": "markdown",
   "id": "b98c99a4",
   "metadata": {},
   "source": [
    "# Ajuste e previsão"
   ]
  },
  {
   "cell_type": "markdown",
   "id": "5610128d",
   "metadata": {},
   "source": [
    "#### Para começar o treinamento precisamos separa nossos dados entre \"treino\" e \"teste\""
   ]
  },
  {
   "cell_type": "code",
   "execution_count": 26,
   "id": "d6ea9301",
   "metadata": {},
   "outputs": [],
   "source": [
    "v_seed = 101"
   ]
  },
  {
   "cell_type": "code",
   "execution_count": 27,
   "id": "447f9419",
   "metadata": {},
   "outputs": [],
   "source": [
    "# Por padrão são usados 70% para treino e 30% para teste\n",
    "treino, teste = dataset_preparado.randomSplit([0.7, 0.3], seed=v_seed)"
   ]
  },
  {
   "cell_type": "code",
   "execution_count": 31,
   "id": "1e793336",
   "metadata": {},
   "outputs": [
    {
     "data": {
      "text/plain": [
       "7206"
      ]
     },
     "execution_count": 31,
     "metadata": {},
     "output_type": "execute_result"
    }
   ],
   "source": [
    "treino.count()"
   ]
  },
  {
   "cell_type": "code",
   "execution_count": 32,
   "id": "ce140769",
   "metadata": {},
   "outputs": [
    {
     "data": {
      "text/plain": [
       "3142"
      ]
     },
     "execution_count": 32,
     "metadata": {},
     "output_type": "execute_result"
    }
   ],
   "source": [
    "teste.count()"
   ]
  },
  {
   "cell_type": "markdown",
   "id": "0bb3c91b",
   "metadata": {},
   "source": [
    "# Usando a Regressão Logística"
   ]
  },
  {
   "cell_type": "code",
   "execution_count": 33,
   "id": "d072ccae",
   "metadata": {},
   "outputs": [],
   "source": [
    "from pyspark.ml.classification import LogisticRegression"
   ]
  },
  {
   "cell_type": "code",
   "execution_count": 34,
   "id": "bf091480",
   "metadata": {},
   "outputs": [],
   "source": [
    "lr = LogisticRegression()"
   ]
  },
  {
   "cell_type": "code",
   "execution_count": 35,
   "id": "9f428033",
   "metadata": {},
   "outputs": [],
   "source": [
    "# Criando Modelo para ajustar o modelo de treino\n",
    "modelo_lr = lr.fit(treino)"
   ]
  },
  {
   "cell_type": "code",
   "execution_count": 36,
   "id": "8d169352",
   "metadata": {},
   "outputs": [],
   "source": [
    "# Classificando o modelo de teste\n",
    "previsoes_lr_teste = modelo_lr.transform(teste)"
   ]
  },
  {
   "cell_type": "code",
   "execution_count": 37,
   "id": "a3748e54",
   "metadata": {},
   "outputs": [
    {
     "name": "stdout",
     "output_type": "stream",
     "text": [
      "+--------------------+-----+--------------------+--------------------+----------+\n",
      "|            features|label|       rawPrediction|         probability|prediction|\n",
      "+--------------------+-----+--------------------+--------------------+----------+\n",
      "|(24,[0,1,2,3,4,5,...|    0|[3.02174179751551...|[0.95354674000282...|       0.0|\n",
      "|(24,[0,1,2,3,4,5,...|    0|[-0.0922192966076...|[0.47696150091605...|       1.0|\n",
      "|(24,[0,1,2,3,4,5,...|    1|[0.18744121711361...|[0.54672358463156...|       0.0|\n",
      "|(24,[0,1,2,3,4,5,...|    1|[0.91716501260103...|[0.71446410549163...|       0.0|\n",
      "|(24,[0,1,2,3,4,5,...|    0|[-0.1495904711610...|[0.46267196467801...|       1.0|\n",
      "|(24,[0,1,2,3,4,5,...|    0|[-0.1680594619286...|[0.45808374494006...|       1.0|\n",
      "|(24,[0,1,2,3,4,5,...|    0|[-1.4170949608173...|[0.19511740608882...|       1.0|\n",
      "|(24,[0,1,2,3,4,5,...|    0|[0.14194260698794...|[0.53542619200881...|       0.0|\n",
      "|(24,[0,1,2,3,4,5,...|    0|[0.67046644011599...|[0.66160759507905...|       0.0|\n",
      "|(24,[0,1,2,3,4,5,...|    0|[1.46841036244999...|[0.81281564870727...|       0.0|\n",
      "|(24,[0,1,2,3,4,5,...|    1|[-0.2187083605333...|[0.44553982138394...|       1.0|\n",
      "|(24,[0,1,2,3,4,5,...|    1|[-1.0342537570067...|[0.26226025614667...|       1.0|\n",
      "|(24,[0,1,2,3,4,5,...|    0|[5.50017227754075...|[0.99593056056380...|       0.0|\n",
      "|(24,[0,1,2,3,4,8,...|    0|[0.78512618330368...|[0.68678387079939...|       0.0|\n",
      "|(24,[0,1,2,3,4,8,...|    0|[0.84647423373263...|[0.69982700991647...|       0.0|\n",
      "|(24,[0,1,2,3,4,8,...|    0|[2.71891428132878...|[0.93813354968549...|       0.0|\n",
      "|(24,[0,1,2,3,5,6,...|    0|[4.47635640497720...|[0.98875314765919...|       0.0|\n",
      "|(24,[0,1,2,3,5,6,...|    0|[1.61650336401316...|[0.83431233628064...|       0.0|\n",
      "|(24,[0,1,2,3,5,6,...|    0|[3.44539231448552...|[0.96909343212403...|       0.0|\n",
      "|(24,[0,1,2,3,5,6,...|    0|[3.42849251731228...|[0.96858322780664...|       0.0|\n",
      "+--------------------+-----+--------------------+--------------------+----------+\n",
      "only showing top 20 rows\n",
      "\n"
     ]
    }
   ],
   "source": [
    "previsoes_lr_teste.show()"
   ]
  },
  {
   "cell_type": "code",
   "execution_count": null,
   "id": "84a64559",
   "metadata": {},
   "outputs": [],
   "source": []
  }
 ],
 "metadata": {
  "kernelspec": {
   "display_name": "Python 3 (ipykernel)",
   "language": "python",
   "name": "python3"
  },
  "language_info": {
   "codemirror_mode": {
    "name": "ipython",
    "version": 3
   },
   "file_extension": ".py",
   "mimetype": "text/x-python",
   "name": "python",
   "nbconvert_exporter": "python",
   "pygments_lexer": "ipython3",
   "version": "3.10.11"
  }
 },
 "nbformat": 4,
 "nbformat_minor": 5
}
