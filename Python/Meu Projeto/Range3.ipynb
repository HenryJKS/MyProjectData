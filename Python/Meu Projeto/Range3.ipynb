{
 "cells": [
  {
   "cell_type": "code",
   "execution_count": 1,
   "id": "841dcee7",
   "metadata": {},
   "outputs": [],
   "source": [
    "import pandas as pd\n",
    "import re\n",
    "import numpy as np"
   ]
  },
  {
   "cell_type": "code",
   "execution_count": 2,
   "id": "ab242cc6",
   "metadata": {},
   "outputs": [],
   "source": [
    "data_express = pd.read_excel('./Datas/Express.xlsx')\n",
    "data_standard = pd.read_excel('./Datas/Standart.xlsx')\n",
    "data_shipments = pd.read_csv('./Datas/Shipments2.csv')\n",
    "pd.set_option('display.max_columns', None)\n",
    "pd.set_option('display.max_rows', None)"
   ]
  },
  {
   "cell_type": "code",
   "execution_count": 3,
   "id": "6d8dbf61",
   "metadata": {},
   "outputs": [
    {
     "data": {
      "text/plain": [
       "to_postcode      object\n",
       "to_country_id     int64\n",
       "dtype: object"
      ]
     },
     "execution_count": 3,
     "metadata": {},
     "output_type": "execute_result"
    }
   ],
   "source": [
    "data_shipments.dtypes"
   ]
  },
  {
   "cell_type": "code",
   "execution_count": 4,
   "id": "8cac829d",
   "metadata": {},
   "outputs": [],
   "source": [
    "data_shipments = data_shipments.rename(columns = {'to_postcode' : 'CEP'})"
   ]
  },
  {
   "cell_type": "code",
   "execution_count": 5,
   "id": "81dc8438",
   "metadata": {},
   "outputs": [
    {
     "data": {
      "text/html": [
       "<div>\n",
       "<style scoped>\n",
       "    .dataframe tbody tr th:only-of-type {\n",
       "        vertical-align: middle;\n",
       "    }\n",
       "\n",
       "    .dataframe tbody tr th {\n",
       "        vertical-align: top;\n",
       "    }\n",
       "\n",
       "    .dataframe thead th {\n",
       "        text-align: right;\n",
       "    }\n",
       "</style>\n",
       "<table border=\"1\" class=\"dataframe\">\n",
       "  <thead>\n",
       "    <tr style=\"text-align: right;\">\n",
       "      <th></th>\n",
       "      <th>CEP</th>\n",
       "      <th>to_country_id</th>\n",
       "    </tr>\n",
       "  </thead>\n",
       "  <tbody>\n",
       "    <tr>\n",
       "      <th>0</th>\n",
       "      <td>00000000</td>\n",
       "      <td>32</td>\n",
       "    </tr>\n",
       "    <tr>\n",
       "      <th>1</th>\n",
       "      <td>00005-820</td>\n",
       "      <td>32</td>\n",
       "    </tr>\n",
       "    <tr>\n",
       "      <th>2</th>\n",
       "      <td>01031-970</td>\n",
       "      <td>32</td>\n",
       "    </tr>\n",
       "    <tr>\n",
       "      <th>3</th>\n",
       "      <td>01033001</td>\n",
       "      <td>64</td>\n",
       "    </tr>\n",
       "    <tr>\n",
       "      <th>4</th>\n",
       "      <td>01033-001</td>\n",
       "      <td>32</td>\n",
       "    </tr>\n",
       "  </tbody>\n",
       "</table>\n",
       "</div>"
      ],
      "text/plain": [
       "         CEP  to_country_id\n",
       "0   00000000             32\n",
       "1  00005-820             32\n",
       "2  01031-970             32\n",
       "3   01033001             64\n",
       "4  01033-001             32"
      ]
     },
     "execution_count": 5,
     "metadata": {},
     "output_type": "execute_result"
    }
   ],
   "source": [
    "data_shipments.head()"
   ]
  },
  {
   "cell_type": "code",
   "execution_count": 6,
   "id": "e383e03e",
   "metadata": {},
   "outputs": [],
   "source": [
    "data_shipments['CEP'] =  data_shipments['CEP'].replace(to_replace=r'\\D+', value='', regex=True)"
   ]
  },
  {
   "cell_type": "code",
   "execution_count": 7,
   "id": "72181cdc",
   "metadata": {},
   "outputs": [
    {
     "data": {
      "text/html": [
       "<div>\n",
       "<style scoped>\n",
       "    .dataframe tbody tr th:only-of-type {\n",
       "        vertical-align: middle;\n",
       "    }\n",
       "\n",
       "    .dataframe tbody tr th {\n",
       "        vertical-align: top;\n",
       "    }\n",
       "\n",
       "    .dataframe thead th {\n",
       "        text-align: right;\n",
       "    }\n",
       "</style>\n",
       "<table border=\"1\" class=\"dataframe\">\n",
       "  <thead>\n",
       "    <tr style=\"text-align: right;\">\n",
       "      <th></th>\n",
       "      <th>CEP</th>\n",
       "      <th>to_country_id</th>\n",
       "    </tr>\n",
       "  </thead>\n",
       "  <tbody>\n",
       "    <tr>\n",
       "      <th>0</th>\n",
       "      <td>00000000</td>\n",
       "      <td>32</td>\n",
       "    </tr>\n",
       "    <tr>\n",
       "      <th>1</th>\n",
       "      <td>00005820</td>\n",
       "      <td>32</td>\n",
       "    </tr>\n",
       "    <tr>\n",
       "      <th>2</th>\n",
       "      <td>01031970</td>\n",
       "      <td>32</td>\n",
       "    </tr>\n",
       "    <tr>\n",
       "      <th>3</th>\n",
       "      <td>01033001</td>\n",
       "      <td>64</td>\n",
       "    </tr>\n",
       "    <tr>\n",
       "      <th>4</th>\n",
       "      <td>01033001</td>\n",
       "      <td>32</td>\n",
       "    </tr>\n",
       "  </tbody>\n",
       "</table>\n",
       "</div>"
      ],
      "text/plain": [
       "        CEP  to_country_id\n",
       "0  00000000             32\n",
       "1  00005820             32\n",
       "2  01031970             32\n",
       "3  01033001             64\n",
       "4  01033001             32"
      ]
     },
     "execution_count": 7,
     "metadata": {},
     "output_type": "execute_result"
    }
   ],
   "source": [
    "data_shipments.head()"
   ]
  },
  {
   "cell_type": "code",
   "execution_count": 8,
   "id": "cd53282e",
   "metadata": {},
   "outputs": [],
   "source": [
    "data_shipments['CEP'].fillna(0, inplace= True)"
   ]
  },
  {
   "cell_type": "code",
   "execution_count": 9,
   "id": "36c6c7a8",
   "metadata": {},
   "outputs": [
    {
     "data": {
      "text/plain": [
       "0    00000000\n",
       "1    00005820\n",
       "2    01031970\n",
       "3    01033001\n",
       "4    01033001\n",
       "Name: CEP, dtype: object"
      ]
     },
     "execution_count": 9,
     "metadata": {},
     "output_type": "execute_result"
    }
   ],
   "source": [
    "data_shipments['CEP'].head()"
   ]
  },
  {
   "cell_type": "code",
   "execution_count": 10,
   "id": "4c4a3248",
   "metadata": {},
   "outputs": [],
   "source": [
    "#Filtrando apenas pelo Country_id 32 (Brasil)\n",
    "data_shipments = data_shipments.loc[data_shipments['to_country_id'] == 32]"
   ]
  },
  {
   "cell_type": "code",
   "execution_count": 11,
   "id": "5c25eb9e",
   "metadata": {},
   "outputs": [
    {
     "data": {
      "text/plain": [
       "0    00000000\n",
       "1    00005820\n",
       "2    01031970\n",
       "4    01033001\n",
       "7    01041000\n",
       "Name: CEP, dtype: object"
      ]
     },
     "execution_count": 11,
     "metadata": {},
     "output_type": "execute_result"
    }
   ],
   "source": [
    "data_shipments['CEP'].head()"
   ]
  },
  {
   "cell_type": "code",
   "execution_count": 12,
   "id": "f6ac1501",
   "metadata": {},
   "outputs": [
    {
     "data": {
      "text/plain": [
       "CEP              object\n",
       "to_country_id     int64\n",
       "dtype: object"
      ]
     },
     "execution_count": 12,
     "metadata": {},
     "output_type": "execute_result"
    }
   ],
   "source": [
    "data_shipments.dtypes"
   ]
  },
  {
   "cell_type": "code",
   "execution_count": 13,
   "id": "03350fe6",
   "metadata": {},
   "outputs": [
    {
     "data": {
      "text/html": [
       "<div>\n",
       "<style scoped>\n",
       "    .dataframe tbody tr th:only-of-type {\n",
       "        vertical-align: middle;\n",
       "    }\n",
       "\n",
       "    .dataframe tbody tr th {\n",
       "        vertical-align: top;\n",
       "    }\n",
       "\n",
       "    .dataframe thead th {\n",
       "        text-align: right;\n",
       "    }\n",
       "</style>\n",
       "<table border=\"1\" class=\"dataframe\">\n",
       "  <thead>\n",
       "    <tr style=\"text-align: right;\">\n",
       "      <th></th>\n",
       "      <th>CEP</th>\n",
       "      <th>to_country_id</th>\n",
       "    </tr>\n",
       "  </thead>\n",
       "  <tbody>\n",
       "    <tr>\n",
       "      <th>0</th>\n",
       "      <td>00000000</td>\n",
       "      <td>32</td>\n",
       "    </tr>\n",
       "    <tr>\n",
       "      <th>1</th>\n",
       "      <td>00005820</td>\n",
       "      <td>32</td>\n",
       "    </tr>\n",
       "    <tr>\n",
       "      <th>2</th>\n",
       "      <td>01031970</td>\n",
       "      <td>32</td>\n",
       "    </tr>\n",
       "    <tr>\n",
       "      <th>4</th>\n",
       "      <td>01033001</td>\n",
       "      <td>32</td>\n",
       "    </tr>\n",
       "    <tr>\n",
       "      <th>7</th>\n",
       "      <td>01041000</td>\n",
       "      <td>32</td>\n",
       "    </tr>\n",
       "  </tbody>\n",
       "</table>\n",
       "</div>"
      ],
      "text/plain": [
       "        CEP  to_country_id\n",
       "0  00000000             32\n",
       "1  00005820             32\n",
       "2  01031970             32\n",
       "4  01033001             32\n",
       "7  01041000             32"
      ]
     },
     "execution_count": 13,
     "metadata": {},
     "output_type": "execute_result"
    }
   ],
   "source": [
    "data_shipments.head()"
   ]
  },
  {
   "cell_type": "code",
   "execution_count": 14,
   "id": "81e4fbd9",
   "metadata": {},
   "outputs": [
    {
     "data": {
      "text/plain": [
       "CEP              object\n",
       "to_country_id     int64\n",
       "dtype: object"
      ]
     },
     "execution_count": 14,
     "metadata": {},
     "output_type": "execute_result"
    }
   ],
   "source": [
    "data_shipments.dtypes"
   ]
  },
  {
   "cell_type": "code",
   "execution_count": 15,
   "id": "c9c48c75",
   "metadata": {},
   "outputs": [],
   "source": [
    "data_shipments['CEP'] = data_shipments['CEP'].str.strip()"
   ]
  },
  {
   "cell_type": "code",
   "execution_count": 16,
   "id": "08c3e1c8",
   "metadata": {},
   "outputs": [],
   "source": [
    "data_shipments['CEP'] = data_shipments['CEP'].replace('', np.nan)"
   ]
  },
  {
   "cell_type": "code",
   "execution_count": 17,
   "id": "d79af50b",
   "metadata": {},
   "outputs": [
    {
     "data": {
      "text/html": [
       "<div>\n",
       "<style scoped>\n",
       "    .dataframe tbody tr th:only-of-type {\n",
       "        vertical-align: middle;\n",
       "    }\n",
       "\n",
       "    .dataframe tbody tr th {\n",
       "        vertical-align: top;\n",
       "    }\n",
       "\n",
       "    .dataframe thead th {\n",
       "        text-align: right;\n",
       "    }\n",
       "</style>\n",
       "<table border=\"1\" class=\"dataframe\">\n",
       "  <thead>\n",
       "    <tr style=\"text-align: right;\">\n",
       "      <th></th>\n",
       "      <th>CEP</th>\n",
       "      <th>to_country_id</th>\n",
       "    </tr>\n",
       "  </thead>\n",
       "  <tbody>\n",
       "    <tr>\n",
       "      <th>0</th>\n",
       "      <td>00000000</td>\n",
       "      <td>32</td>\n",
       "    </tr>\n",
       "    <tr>\n",
       "      <th>1</th>\n",
       "      <td>00005820</td>\n",
       "      <td>32</td>\n",
       "    </tr>\n",
       "    <tr>\n",
       "      <th>2</th>\n",
       "      <td>01031970</td>\n",
       "      <td>32</td>\n",
       "    </tr>\n",
       "    <tr>\n",
       "      <th>4</th>\n",
       "      <td>01033001</td>\n",
       "      <td>32</td>\n",
       "    </tr>\n",
       "    <tr>\n",
       "      <th>7</th>\n",
       "      <td>01041000</td>\n",
       "      <td>32</td>\n",
       "    </tr>\n",
       "  </tbody>\n",
       "</table>\n",
       "</div>"
      ],
      "text/plain": [
       "        CEP  to_country_id\n",
       "0  00000000             32\n",
       "1  00005820             32\n",
       "2  01031970             32\n",
       "4  01033001             32\n",
       "7  01041000             32"
      ]
     },
     "execution_count": 17,
     "metadata": {},
     "output_type": "execute_result"
    }
   ],
   "source": [
    "data_shipments.head()"
   ]
  },
  {
   "cell_type": "code",
   "execution_count": 18,
   "id": "3d13a994",
   "metadata": {},
   "outputs": [],
   "source": [
    "data_shipments = data_shipments.reset_index(drop = True)"
   ]
  },
  {
   "cell_type": "code",
   "execution_count": 19,
   "id": "bf163bb7",
   "metadata": {},
   "outputs": [
    {
     "data": {
      "text/html": [
       "<div>\n",
       "<style scoped>\n",
       "    .dataframe tbody tr th:only-of-type {\n",
       "        vertical-align: middle;\n",
       "    }\n",
       "\n",
       "    .dataframe tbody tr th {\n",
       "        vertical-align: top;\n",
       "    }\n",
       "\n",
       "    .dataframe thead th {\n",
       "        text-align: right;\n",
       "    }\n",
       "</style>\n",
       "<table border=\"1\" class=\"dataframe\">\n",
       "  <thead>\n",
       "    <tr style=\"text-align: right;\">\n",
       "      <th></th>\n",
       "      <th>CEP</th>\n",
       "      <th>to_country_id</th>\n",
       "    </tr>\n",
       "  </thead>\n",
       "  <tbody>\n",
       "    <tr>\n",
       "      <th>0</th>\n",
       "      <td>00000000</td>\n",
       "      <td>32</td>\n",
       "    </tr>\n",
       "    <tr>\n",
       "      <th>1</th>\n",
       "      <td>00005820</td>\n",
       "      <td>32</td>\n",
       "    </tr>\n",
       "    <tr>\n",
       "      <th>2</th>\n",
       "      <td>01031970</td>\n",
       "      <td>32</td>\n",
       "    </tr>\n",
       "    <tr>\n",
       "      <th>3</th>\n",
       "      <td>01033001</td>\n",
       "      <td>32</td>\n",
       "    </tr>\n",
       "    <tr>\n",
       "      <th>4</th>\n",
       "      <td>01041000</td>\n",
       "      <td>32</td>\n",
       "    </tr>\n",
       "  </tbody>\n",
       "</table>\n",
       "</div>"
      ],
      "text/plain": [
       "        CEP  to_country_id\n",
       "0  00000000             32\n",
       "1  00005820             32\n",
       "2  01031970             32\n",
       "3  01033001             32\n",
       "4  01041000             32"
      ]
     },
     "execution_count": 19,
     "metadata": {},
     "output_type": "execute_result"
    }
   ],
   "source": [
    "valor_padrao = 1\n",
    "data_shipments['CEP'] = data_shipments['CEP'].fillna(valor_padrao)\n",
    "data_shipments.head()"
   ]
  },
  {
   "cell_type": "code",
   "execution_count": 20,
   "id": "8d9d6402",
   "metadata": {},
   "outputs": [
    {
     "data": {
      "text/plain": [
       "CEP              object\n",
       "to_country_id     int64\n",
       "dtype: object"
      ]
     },
     "execution_count": 20,
     "metadata": {},
     "output_type": "execute_result"
    }
   ],
   "source": [
    "data_shipments.dtypes"
   ]
  },
  {
   "cell_type": "markdown",
   "id": "7d6265ea",
   "metadata": {},
   "source": [
    "# Verificando DF Express | Standart"
   ]
  },
  {
   "cell_type": "code",
   "execution_count": 21,
   "id": "73da4e6d",
   "metadata": {},
   "outputs": [
    {
     "data": {
      "text/html": [
       "<div>\n",
       "<style scoped>\n",
       "    .dataframe tbody tr th:only-of-type {\n",
       "        vertical-align: middle;\n",
       "    }\n",
       "\n",
       "    .dataframe tbody tr th {\n",
       "        vertical-align: top;\n",
       "    }\n",
       "\n",
       "    .dataframe thead th {\n",
       "        text-align: right;\n",
       "    }\n",
       "</style>\n",
       "<table border=\"1\" class=\"dataframe\">\n",
       "  <thead>\n",
       "    <tr style=\"text-align: right;\">\n",
       "      <th></th>\n",
       "      <th>CEP INI</th>\n",
       "      <th>CEP FIN</th>\n",
       "      <th>NOME COBERTURA</th>\n",
       "      <th>UF</th>\n",
       "      <th>FRANQUIA</th>\n",
       "      <th>EXPRESSO</th>\n",
       "    </tr>\n",
       "  </thead>\n",
       "  <tbody>\n",
       "    <tr>\n",
       "      <th>0</th>\n",
       "      <td>16800000</td>\n",
       "      <td>16849999</td>\n",
       "      <td>MIRANDOPOLIS</td>\n",
       "      <td>SP</td>\n",
       "      <td>AAN</td>\n",
       "      <td>ATENDIDO</td>\n",
       "    </tr>\n",
       "    <tr>\n",
       "      <th>1</th>\n",
       "      <td>16900001</td>\n",
       "      <td>16905265</td>\n",
       "      <td>ANDRADINA</td>\n",
       "      <td>SP</td>\n",
       "      <td>AAN</td>\n",
       "      <td>ATENDIDO</td>\n",
       "    </tr>\n",
       "    <tr>\n",
       "      <th>2</th>\n",
       "      <td>16920000</td>\n",
       "      <td>16939999</td>\n",
       "      <td>CASTILHO</td>\n",
       "      <td>SP</td>\n",
       "      <td>AAN</td>\n",
       "      <td>ATENDIDO</td>\n",
       "    </tr>\n",
       "    <tr>\n",
       "      <th>3</th>\n",
       "      <td>16950000</td>\n",
       "      <td>16979999</td>\n",
       "      <td>MURUTINGA DO SUL</td>\n",
       "      <td>SP</td>\n",
       "      <td>AAN</td>\n",
       "      <td>ATENDIDO</td>\n",
       "    </tr>\n",
       "    <tr>\n",
       "      <th>4</th>\n",
       "      <td>16980000</td>\n",
       "      <td>16999999</td>\n",
       "      <td>GUARACAI</td>\n",
       "      <td>SP</td>\n",
       "      <td>AAN</td>\n",
       "      <td>ATENDIDO</td>\n",
       "    </tr>\n",
       "  </tbody>\n",
       "</table>\n",
       "</div>"
      ],
      "text/plain": [
       "    CEP INI   CEP FIN    NOME COBERTURA  UF FRANQUIA  EXPRESSO\n",
       "0  16800000  16849999      MIRANDOPOLIS  SP      AAN  ATENDIDO\n",
       "1  16900001  16905265         ANDRADINA  SP      AAN  ATENDIDO\n",
       "2  16920000  16939999          CASTILHO  SP      AAN  ATENDIDO\n",
       "3  16950000  16979999  MURUTINGA DO SUL  SP      AAN  ATENDIDO\n",
       "4  16980000  16999999          GUARACAI  SP      AAN  ATENDIDO"
      ]
     },
     "execution_count": 21,
     "metadata": {},
     "output_type": "execute_result"
    }
   ],
   "source": [
    "data_express.head()"
   ]
  },
  {
   "cell_type": "code",
   "execution_count": 22,
   "id": "da484790",
   "metadata": {},
   "outputs": [
    {
     "data": {
      "text/plain": [
       "CEP INI            int64\n",
       "CEP FIN            int64\n",
       "NOME COBERTURA    object\n",
       "UF                object\n",
       "FRANQUIA          object\n",
       "EXPRESSO          object\n",
       "dtype: object"
      ]
     },
     "execution_count": 22,
     "metadata": {},
     "output_type": "execute_result"
    }
   ],
   "source": [
    "data_express.dtypes"
   ]
  },
  {
   "cell_type": "code",
   "execution_count": 23,
   "id": "57eaab88",
   "metadata": {},
   "outputs": [],
   "source": [
    "data_express = data_express.rename(columns = {'CEP INI' : 'CEP_INI'})\n",
    "data_express = data_express.rename(columns = {'CEP FIN' : 'CEP_FIN'})"
   ]
  },
  {
   "cell_type": "code",
   "execution_count": 24,
   "id": "b4d120f9",
   "metadata": {},
   "outputs": [
    {
     "data": {
      "text/html": [
       "<div>\n",
       "<style scoped>\n",
       "    .dataframe tbody tr th:only-of-type {\n",
       "        vertical-align: middle;\n",
       "    }\n",
       "\n",
       "    .dataframe tbody tr th {\n",
       "        vertical-align: top;\n",
       "    }\n",
       "\n",
       "    .dataframe thead th {\n",
       "        text-align: right;\n",
       "    }\n",
       "</style>\n",
       "<table border=\"1\" class=\"dataframe\">\n",
       "  <thead>\n",
       "    <tr style=\"text-align: right;\">\n",
       "      <th></th>\n",
       "      <th>CEP_INI</th>\n",
       "      <th>CEP_FIN</th>\n",
       "      <th>NOME COBERTURA</th>\n",
       "      <th>UF</th>\n",
       "      <th>FRANQUIA</th>\n",
       "      <th>EXPRESSO</th>\n",
       "    </tr>\n",
       "  </thead>\n",
       "  <tbody>\n",
       "    <tr>\n",
       "      <th>0</th>\n",
       "      <td>16800000</td>\n",
       "      <td>16849999</td>\n",
       "      <td>MIRANDOPOLIS</td>\n",
       "      <td>SP</td>\n",
       "      <td>AAN</td>\n",
       "      <td>ATENDIDO</td>\n",
       "    </tr>\n",
       "    <tr>\n",
       "      <th>1</th>\n",
       "      <td>16900001</td>\n",
       "      <td>16905265</td>\n",
       "      <td>ANDRADINA</td>\n",
       "      <td>SP</td>\n",
       "      <td>AAN</td>\n",
       "      <td>ATENDIDO</td>\n",
       "    </tr>\n",
       "    <tr>\n",
       "      <th>2</th>\n",
       "      <td>16920000</td>\n",
       "      <td>16939999</td>\n",
       "      <td>CASTILHO</td>\n",
       "      <td>SP</td>\n",
       "      <td>AAN</td>\n",
       "      <td>ATENDIDO</td>\n",
       "    </tr>\n",
       "    <tr>\n",
       "      <th>3</th>\n",
       "      <td>16950000</td>\n",
       "      <td>16979999</td>\n",
       "      <td>MURUTINGA DO SUL</td>\n",
       "      <td>SP</td>\n",
       "      <td>AAN</td>\n",
       "      <td>ATENDIDO</td>\n",
       "    </tr>\n",
       "    <tr>\n",
       "      <th>4</th>\n",
       "      <td>16980000</td>\n",
       "      <td>16999999</td>\n",
       "      <td>GUARACAI</td>\n",
       "      <td>SP</td>\n",
       "      <td>AAN</td>\n",
       "      <td>ATENDIDO</td>\n",
       "    </tr>\n",
       "  </tbody>\n",
       "</table>\n",
       "</div>"
      ],
      "text/plain": [
       "    CEP_INI   CEP_FIN    NOME COBERTURA  UF FRANQUIA  EXPRESSO\n",
       "0  16800000  16849999      MIRANDOPOLIS  SP      AAN  ATENDIDO\n",
       "1  16900001  16905265         ANDRADINA  SP      AAN  ATENDIDO\n",
       "2  16920000  16939999          CASTILHO  SP      AAN  ATENDIDO\n",
       "3  16950000  16979999  MURUTINGA DO SUL  SP      AAN  ATENDIDO\n",
       "4  16980000  16999999          GUARACAI  SP      AAN  ATENDIDO"
      ]
     },
     "execution_count": 24,
     "metadata": {},
     "output_type": "execute_result"
    }
   ],
   "source": [
    "data_express.head()"
   ]
  },
  {
   "cell_type": "code",
   "execution_count": 25,
   "id": "137c84f2",
   "metadata": {},
   "outputs": [],
   "source": [
    "data_standard = data_standard.rename(columns = {'CEP INI' : 'CEP_INI'})\n",
    "data_standard = data_standard.rename(columns = {'CEP FIN' : 'CEP_FIN'})"
   ]
  },
  {
   "cell_type": "code",
   "execution_count": 26,
   "id": "720baf9e",
   "metadata": {
    "scrolled": true
   },
   "outputs": [
    {
     "data": {
      "text/html": [
       "<div>\n",
       "<style scoped>\n",
       "    .dataframe tbody tr th:only-of-type {\n",
       "        vertical-align: middle;\n",
       "    }\n",
       "\n",
       "    .dataframe tbody tr th {\n",
       "        vertical-align: top;\n",
       "    }\n",
       "\n",
       "    .dataframe thead th {\n",
       "        text-align: right;\n",
       "    }\n",
       "</style>\n",
       "<table border=\"1\" class=\"dataframe\">\n",
       "  <thead>\n",
       "    <tr style=\"text-align: right;\">\n",
       "      <th></th>\n",
       "      <th>CEP_INI</th>\n",
       "      <th>CEP_FIN</th>\n",
       "      <th>NOME COBERTURA</th>\n",
       "      <th>UF</th>\n",
       "      <th>FRANQUIA</th>\n",
       "      <th>EXPRESSO</th>\n",
       "    </tr>\n",
       "  </thead>\n",
       "  <tbody>\n",
       "    <tr>\n",
       "      <th>0</th>\n",
       "      <td>16800000</td>\n",
       "      <td>16849999</td>\n",
       "      <td>MIRANDOPOLIS</td>\n",
       "      <td>SP</td>\n",
       "      <td>AAN</td>\n",
       "      <td>ATENDIDO</td>\n",
       "    </tr>\n",
       "    <tr>\n",
       "      <th>1</th>\n",
       "      <td>16900001</td>\n",
       "      <td>16905265</td>\n",
       "      <td>ANDRADINA</td>\n",
       "      <td>SP</td>\n",
       "      <td>AAN</td>\n",
       "      <td>ATENDIDO</td>\n",
       "    </tr>\n",
       "    <tr>\n",
       "      <th>2</th>\n",
       "      <td>16920000</td>\n",
       "      <td>16939999</td>\n",
       "      <td>CASTILHO</td>\n",
       "      <td>SP</td>\n",
       "      <td>AAN</td>\n",
       "      <td>ATENDIDO</td>\n",
       "    </tr>\n",
       "    <tr>\n",
       "      <th>3</th>\n",
       "      <td>16950000</td>\n",
       "      <td>16979999</td>\n",
       "      <td>MURUTINGA DO SUL</td>\n",
       "      <td>SP</td>\n",
       "      <td>AAN</td>\n",
       "      <td>ATENDIDO</td>\n",
       "    </tr>\n",
       "    <tr>\n",
       "      <th>4</th>\n",
       "      <td>16980000</td>\n",
       "      <td>16999999</td>\n",
       "      <td>GUARACAI</td>\n",
       "      <td>SP</td>\n",
       "      <td>AAN</td>\n",
       "      <td>ATENDIDO</td>\n",
       "    </tr>\n",
       "  </tbody>\n",
       "</table>\n",
       "</div>"
      ],
      "text/plain": [
       "    CEP_INI   CEP_FIN    NOME COBERTURA  UF FRANQUIA  EXPRESSO\n",
       "0  16800000  16849999      MIRANDOPOLIS  SP      AAN  ATENDIDO\n",
       "1  16900001  16905265         ANDRADINA  SP      AAN  ATENDIDO\n",
       "2  16920000  16939999          CASTILHO  SP      AAN  ATENDIDO\n",
       "3  16950000  16979999  MURUTINGA DO SUL  SP      AAN  ATENDIDO\n",
       "4  16980000  16999999          GUARACAI  SP      AAN  ATENDIDO"
      ]
     },
     "execution_count": 26,
     "metadata": {},
     "output_type": "execute_result"
    }
   ],
   "source": [
    "data_express.head()"
   ]
  },
  {
   "cell_type": "code",
   "execution_count": 27,
   "id": "74d9f142",
   "metadata": {},
   "outputs": [
    {
     "data": {
      "text/plain": [
       "CEP_INI            int64\n",
       "CEP_FIN            int64\n",
       "NOME COBERTURA    object\n",
       "UF                object\n",
       "FRANQUIA          object\n",
       "EXPRESSO          object\n",
       "dtype: object"
      ]
     },
     "execution_count": 27,
     "metadata": {},
     "output_type": "execute_result"
    }
   ],
   "source": [
    "data_express.dtypes"
   ]
  },
  {
   "cell_type": "markdown",
   "id": "8a4f7fee",
   "metadata": {},
   "source": [
    "# Range"
   ]
  },
  {
   "cell_type": "markdown",
   "id": "5b872587",
   "metadata": {},
   "source": [
    "### Express"
   ]
  },
  {
   "cell_type": "code",
   "execution_count": 29,
   "id": "77493b15",
   "metadata": {},
   "outputs": [],
   "source": [
    "data_express['CEP_RANGE'] = [list(range(cep_ini, cep_fin + 1)) for cep_ini, cep_fin in zip(data_express['CEP_INI'], data_express['CEP_FIN'])]"
   ]
  },
  {
   "cell_type": "code",
   "execution_count": 30,
   "id": "06c21501",
   "metadata": {},
   "outputs": [],
   "source": [
    "lista_cep_express = data_express['CEP_RANGE'].explode().tolist()"
   ]
  },
  {
   "cell_type": "code",
   "execution_count": 31,
   "id": "1e3064fb",
   "metadata": {},
   "outputs": [],
   "source": [
    "lista_cep_shipments = data_shipments['CEP'].explode().tolist()"
   ]
  },
  {
   "cell_type": "code",
   "execution_count": 32,
   "id": "012e646f",
   "metadata": {},
   "outputs": [],
   "source": [
    "lista_cep_express_str = list(map(str, lista_cep_express))"
   ]
  },
  {
   "cell_type": "code",
   "execution_count": 50,
   "id": "de4639ab",
   "metadata": {},
   "outputs": [],
   "source": [
    "shipments = set(lista_cep_shipments)\n",
    "express = set(lista_cep_express_str)"
   ]
  },
  {
   "cell_type": "code",
   "execution_count": 53,
   "id": "bf2f15ba",
   "metadata": {
    "scrolled": true
   },
   "outputs": [
    {
     "data": {
      "text/plain": [
       "51801245"
      ]
     },
     "execution_count": 53,
     "metadata": {},
     "output_type": "execute_result"
    }
   ],
   "source": [
    "len(express)"
   ]
  },
  {
   "cell_type": "code",
   "execution_count": 54,
   "id": "5d430768",
   "metadata": {},
   "outputs": [
    {
     "data": {
      "text/plain": [
       "51801245"
      ]
     },
     "execution_count": 54,
     "metadata": {},
     "output_type": "execute_result"
    }
   ],
   "source": [
    "len(lista_cep_express_str)"
   ]
  },
  {
   "cell_type": "code",
   "execution_count": 46,
   "id": "4350bed1",
   "metadata": {},
   "outputs": [],
   "source": [
    "valor_comum = 0"
   ]
  },
  {
   "cell_type": "code",
   "execution_count": 55,
   "id": "6c25b87c",
   "metadata": {},
   "outputs": [],
   "source": [
    "for valor in shipments:\n",
    "    if valor in express:\n",
    "        valor_comum += 1"
   ]
  },
  {
   "cell_type": "code",
   "execution_count": 59,
   "id": "1ba1eeee",
   "metadata": {},
   "outputs": [],
   "source": [
    "porcentagem = round((valor_comum / len(shipments)) * 100,2)"
   ]
  },
  {
   "cell_type": "code",
   "execution_count": 60,
   "id": "5cb9a584",
   "metadata": {},
   "outputs": [
    {
     "data": {
      "text/plain": [
       "95.05"
      ]
     },
     "execution_count": 60,
     "metadata": {},
     "output_type": "execute_result"
    }
   ],
   "source": [
    "porcentagem"
   ]
  },
  {
   "cell_type": "code",
   "execution_count": 61,
   "id": "2b8a1516",
   "metadata": {},
   "outputs": [
    {
     "name": "stdout",
     "output_type": "stream",
     "text": [
      "A estimativa de CEPS Shipments dentro do CEPS Express é de 95.05%\n"
     ]
    }
   ],
   "source": [
    "print(f'A estimativa de CEPS Shipments dentro do CEPS Express é de {porcentagem}%')"
   ]
  },
  {
   "cell_type": "code",
   "execution_count": null,
   "id": "dfaabb40",
   "metadata": {},
   "outputs": [],
   "source": []
  }
 ],
 "metadata": {
  "kernelspec": {
   "display_name": "Python 3 (ipykernel)",
   "language": "python",
   "name": "python3"
  },
  "language_info": {
   "codemirror_mode": {
    "name": "ipython",
    "version": 3
   },
   "file_extension": ".py",
   "mimetype": "text/x-python",
   "name": "python",
   "nbconvert_exporter": "python",
   "pygments_lexer": "ipython3",
   "version": "3.10.11"
  }
 },
 "nbformat": 4,
 "nbformat_minor": 5
}
