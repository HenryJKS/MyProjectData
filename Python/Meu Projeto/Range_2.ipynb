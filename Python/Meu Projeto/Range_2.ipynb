{
 "cells": [
  {
   "cell_type": "code",
   "execution_count": 67,
   "id": "63357585",
   "metadata": {},
   "outputs": [],
   "source": [
    "import pandas as pd\n",
    "import re"
   ]
  },
  {
   "cell_type": "code",
   "execution_count": 68,
   "id": "ebeb9fe2",
   "metadata": {},
   "outputs": [],
   "source": [
    "data_express = pd.read_excel('./Datas/Express.xlsx')\n",
    "data_standart = pd.read_excel('./Datas/Standart.xlsx')\n",
    "data_shipments = pd.read_csv('./Datas/Shipments2.csv')"
   ]
  },
  {
   "cell_type": "code",
   "execution_count": 69,
   "id": "643f2868",
   "metadata": {},
   "outputs": [],
   "source": [
    "#pd.set_option('display.max_columns', )\n",
    "#pd.set_option('display.max_rows', None)"
   ]
  },
  {
   "cell_type": "markdown",
   "id": "27a2bb35",
   "metadata": {},
   "source": [
    "### Normalizando Dataframe data_shipments"
   ]
  },
  {
   "cell_type": "code",
   "execution_count": 70,
   "id": "64e874d2",
   "metadata": {},
   "outputs": [
    {
     "data": {
      "text/html": [
       "<div>\n",
       "<style scoped>\n",
       "    .dataframe tbody tr th:only-of-type {\n",
       "        vertical-align: middle;\n",
       "    }\n",
       "\n",
       "    .dataframe tbody tr th {\n",
       "        vertical-align: top;\n",
       "    }\n",
       "\n",
       "    .dataframe thead th {\n",
       "        text-align: right;\n",
       "    }\n",
       "</style>\n",
       "<table border=\"1\" class=\"dataframe\">\n",
       "  <thead>\n",
       "    <tr style=\"text-align: right;\">\n",
       "      <th></th>\n",
       "      <th>to_postcode</th>\n",
       "      <th>to_country_id</th>\n",
       "    </tr>\n",
       "  </thead>\n",
       "  <tbody>\n",
       "    <tr>\n",
       "      <th>0</th>\n",
       "      <td>00000000</td>\n",
       "      <td>32</td>\n",
       "    </tr>\n",
       "  </tbody>\n",
       "</table>\n",
       "</div>"
      ],
      "text/plain": [
       "  to_postcode  to_country_id\n",
       "0    00000000             32"
      ]
     },
     "execution_count": 70,
     "metadata": {},
     "output_type": "execute_result"
    }
   ],
   "source": [
    "data_shipments.head(1)"
   ]
  },
  {
   "cell_type": "code",
   "execution_count": 78,
   "id": "6c87855a",
   "metadata": {},
   "outputs": [],
   "source": [
    "data_shipments = data_shipments.rename(columns = {'to_postcode' : 'CEP'})"
   ]
  },
  {
   "cell_type": "code",
   "execution_count": 77,
   "id": "2a502aaa",
   "metadata": {},
   "outputs": [
    {
     "data": {
      "text/html": [
       "<div>\n",
       "<style scoped>\n",
       "    .dataframe tbody tr th:only-of-type {\n",
       "        vertical-align: middle;\n",
       "    }\n",
       "\n",
       "    .dataframe tbody tr th {\n",
       "        vertical-align: top;\n",
       "    }\n",
       "\n",
       "    .dataframe thead th {\n",
       "        text-align: right;\n",
       "    }\n",
       "</style>\n",
       "<table border=\"1\" class=\"dataframe\">\n",
       "  <thead>\n",
       "    <tr style=\"text-align: right;\">\n",
       "      <th></th>\n",
       "      <th>CEP</th>\n",
       "      <th>to_country_id</th>\n",
       "    </tr>\n",
       "  </thead>\n",
       "  <tbody>\n",
       "    <tr>\n",
       "      <th>0</th>\n",
       "      <td>00000000</td>\n",
       "      <td>32</td>\n",
       "    </tr>\n",
       "    <tr>\n",
       "      <th>1</th>\n",
       "      <td>000050820</td>\n",
       "      <td>32</td>\n",
       "    </tr>\n",
       "    <tr>\n",
       "      <th>2</th>\n",
       "      <td>010310970</td>\n",
       "      <td>32</td>\n",
       "    </tr>\n",
       "    <tr>\n",
       "      <th>3</th>\n",
       "      <td>01033001</td>\n",
       "      <td>64</td>\n",
       "    </tr>\n",
       "    <tr>\n",
       "      <th>4</th>\n",
       "      <td>010330001</td>\n",
       "      <td>32</td>\n",
       "    </tr>\n",
       "  </tbody>\n",
       "</table>\n",
       "</div>"
      ],
      "text/plain": [
       "         CEP  to_country_id\n",
       "0   00000000             32\n",
       "1  000050820             32\n",
       "2  010310970             32\n",
       "3   01033001             64\n",
       "4  010330001             32"
      ]
     },
     "execution_count": 77,
     "metadata": {},
     "output_type": "execute_result"
    }
   ],
   "source": [
    "data_shipments.head()"
   ]
  },
  {
   "cell_type": "code",
   "execution_count": 79,
   "id": "0d46ec2f",
   "metadata": {},
   "outputs": [],
   "source": [
    "data_shipments['CEP'] =  data_shipments['CEP'].replace(to_replace=r'\\D+', value='0', regex=True)"
   ]
  },
  {
   "cell_type": "code",
   "execution_count": 84,
   "id": "98e27371",
   "metadata": {},
   "outputs": [
    {
     "data": {
      "text/html": [
       "<div>\n",
       "<style scoped>\n",
       "    .dataframe tbody tr th:only-of-type {\n",
       "        vertical-align: middle;\n",
       "    }\n",
       "\n",
       "    .dataframe tbody tr th {\n",
       "        vertical-align: top;\n",
       "    }\n",
       "\n",
       "    .dataframe thead th {\n",
       "        text-align: right;\n",
       "    }\n",
       "</style>\n",
       "<table border=\"1\" class=\"dataframe\">\n",
       "  <thead>\n",
       "    <tr style=\"text-align: right;\">\n",
       "      <th></th>\n",
       "      <th>CEP</th>\n",
       "      <th>to_country_id</th>\n",
       "    </tr>\n",
       "  </thead>\n",
       "  <tbody>\n",
       "    <tr>\n",
       "      <th>0</th>\n",
       "      <td>00000000</td>\n",
       "      <td>32</td>\n",
       "    </tr>\n",
       "    <tr>\n",
       "      <th>1</th>\n",
       "      <td>000050820</td>\n",
       "      <td>32</td>\n",
       "    </tr>\n",
       "    <tr>\n",
       "      <th>2</th>\n",
       "      <td>010310970</td>\n",
       "      <td>32</td>\n",
       "    </tr>\n",
       "    <tr>\n",
       "      <th>3</th>\n",
       "      <td>01033001</td>\n",
       "      <td>64</td>\n",
       "    </tr>\n",
       "    <tr>\n",
       "      <th>4</th>\n",
       "      <td>010330001</td>\n",
       "      <td>32</td>\n",
       "    </tr>\n",
       "    <tr>\n",
       "      <th>5</th>\n",
       "      <td>010340001</td>\n",
       "      <td>64</td>\n",
       "    </tr>\n",
       "    <tr>\n",
       "      <th>6</th>\n",
       "      <td>010400000</td>\n",
       "      <td>128</td>\n",
       "    </tr>\n",
       "    <tr>\n",
       "      <th>7</th>\n",
       "      <td>01041000</td>\n",
       "      <td>32</td>\n",
       "    </tr>\n",
       "    <tr>\n",
       "      <th>8</th>\n",
       "      <td>010460010</td>\n",
       "      <td>96</td>\n",
       "    </tr>\n",
       "    <tr>\n",
       "      <th>9</th>\n",
       "      <td>01046925</td>\n",
       "      <td>32</td>\n",
       "    </tr>\n",
       "  </tbody>\n",
       "</table>\n",
       "</div>"
      ],
      "text/plain": [
       "         CEP  to_country_id\n",
       "0   00000000             32\n",
       "1  000050820             32\n",
       "2  010310970             32\n",
       "3   01033001             64\n",
       "4  010330001             32\n",
       "5  010340001             64\n",
       "6  010400000            128\n",
       "7   01041000             32\n",
       "8  010460010             96\n",
       "9   01046925             32"
      ]
     },
     "execution_count": 84,
     "metadata": {},
     "output_type": "execute_result"
    }
   ],
   "source": [
    "data_shipments.head(10)"
   ]
  },
  {
   "cell_type": "code",
   "execution_count": 86,
   "id": "639b77ee",
   "metadata": {},
   "outputs": [],
   "source": [
    "#Filtrando apenas pelo Country_id 32 (Brasil)\n",
    "data_shipments = data_shipments.loc[data_shipments['to_country_id'] == 32]"
   ]
  },
  {
   "cell_type": "markdown",
   "id": "f74ed441",
   "metadata": {},
   "source": [
    "## Normalizando DF Standart | Express"
   ]
  },
  {
   "cell_type": "code",
   "execution_count": 92,
   "id": "3c5fbcba",
   "metadata": {},
   "outputs": [],
   "source": [
    "data_express = data_express.rename(columns = {'CEP INI' : 'CEP_INI'})\n",
    "data_express = data_express.rename(columns = {'CEP FIN' : 'CEP_FIN'})"
   ]
  },
  {
   "cell_type": "code",
   "execution_count": 93,
   "id": "588814f3",
   "metadata": {},
   "outputs": [],
   "source": [
    "data_standard = data_standard.rename(columns = {'CEP INI' : 'CEP_INI'})\n",
    "data_standard = data_standard.rename(columns = {'CEP FIN' : 'CEP_FIN'})"
   ]
  },
  {
   "cell_type": "code",
   "execution_count": 96,
   "id": "c93d0661",
   "metadata": {},
   "outputs": [
    {
     "data": {
      "text/html": [
       "<div>\n",
       "<style scoped>\n",
       "    .dataframe tbody tr th:only-of-type {\n",
       "        vertical-align: middle;\n",
       "    }\n",
       "\n",
       "    .dataframe tbody tr th {\n",
       "        vertical-align: top;\n",
       "    }\n",
       "\n",
       "    .dataframe thead th {\n",
       "        text-align: right;\n",
       "    }\n",
       "</style>\n",
       "<table border=\"1\" class=\"dataframe\">\n",
       "  <thead>\n",
       "    <tr style=\"text-align: right;\">\n",
       "      <th></th>\n",
       "      <th>CEP_INI</th>\n",
       "      <th>CEP_FIN</th>\n",
       "      <th>NOME COBERTURA</th>\n",
       "      <th>UF</th>\n",
       "      <th>FRANQUIA</th>\n",
       "      <th>EXPRESSO</th>\n",
       "    </tr>\n",
       "  </thead>\n",
       "  <tbody>\n",
       "    <tr>\n",
       "      <th>0</th>\n",
       "      <td>16800000</td>\n",
       "      <td>16849999</td>\n",
       "      <td>MIRANDOPOLIS</td>\n",
       "      <td>SP</td>\n",
       "      <td>AAN</td>\n",
       "      <td>ATENDIDO</td>\n",
       "    </tr>\n",
       "  </tbody>\n",
       "</table>\n",
       "</div>"
      ],
      "text/plain": [
       "    CEP_INI   CEP_FIN NOME COBERTURA  UF FRANQUIA  EXPRESSO\n",
       "0  16800000  16849999   MIRANDOPOLIS  SP      AAN  ATENDIDO"
      ]
     },
     "execution_count": 96,
     "metadata": {},
     "output_type": "execute_result"
    }
   ],
   "source": [
    "data_express.head(1)"
   ]
  },
  {
   "cell_type": "code",
   "execution_count": 95,
   "id": "a4f77ce3",
   "metadata": {},
   "outputs": [
    {
     "data": {
      "text/html": [
       "<div>\n",
       "<style scoped>\n",
       "    .dataframe tbody tr th:only-of-type {\n",
       "        vertical-align: middle;\n",
       "    }\n",
       "\n",
       "    .dataframe tbody tr th {\n",
       "        vertical-align: top;\n",
       "    }\n",
       "\n",
       "    .dataframe thead th {\n",
       "        text-align: right;\n",
       "    }\n",
       "</style>\n",
       "<table border=\"1\" class=\"dataframe\">\n",
       "  <thead>\n",
       "    <tr style=\"text-align: right;\">\n",
       "      <th></th>\n",
       "      <th>CEP_INI</th>\n",
       "      <th>CEP_FIN</th>\n",
       "      <th>NOME COBERTURA</th>\n",
       "      <th>UF</th>\n",
       "      <th>FRANQUIA</th>\n",
       "      <th>STANDARD</th>\n",
       "    </tr>\n",
       "  </thead>\n",
       "  <tbody>\n",
       "    <tr>\n",
       "      <th>0</th>\n",
       "      <td>16800000</td>\n",
       "      <td>16849999</td>\n",
       "      <td>MIRANDOPOLIS</td>\n",
       "      <td>SP</td>\n",
       "      <td>AAN</td>\n",
       "      <td>ATENDIDO</td>\n",
       "    </tr>\n",
       "  </tbody>\n",
       "</table>\n",
       "</div>"
      ],
      "text/plain": [
       "    CEP_INI   CEP_FIN NOME COBERTURA  UF FRANQUIA  STANDARD\n",
       "0  16800000  16849999   MIRANDOPOLIS  SP      AAN  ATENDIDO"
      ]
     },
     "execution_count": 95,
     "metadata": {},
     "output_type": "execute_result"
    }
   ],
   "source": [
    "data_standard.head(1)"
   ]
  },
  {
   "cell_type": "markdown",
   "id": "a96d6d5b",
   "metadata": {},
   "source": [
    "# Construção da Range"
   ]
  },
  {
   "cell_type": "code",
   "execution_count": 160,
   "id": "76fe6a41",
   "metadata": {},
   "outputs": [],
   "source": [
    "data_express['CEP_RANGE'] = data_express.apply(lambda row: list(range(row['CEP_INI'], row['CEP_FIN']+1)), axis=1)"
   ]
  },
  {
   "cell_type": "code",
   "execution_count": 164,
   "id": "8035195a",
   "metadata": {},
   "outputs": [
    {
     "data": {
      "text/html": [
       "<div>\n",
       "<style scoped>\n",
       "    .dataframe tbody tr th:only-of-type {\n",
       "        vertical-align: middle;\n",
       "    }\n",
       "\n",
       "    .dataframe tbody tr th {\n",
       "        vertical-align: top;\n",
       "    }\n",
       "\n",
       "    .dataframe thead th {\n",
       "        text-align: right;\n",
       "    }\n",
       "</style>\n",
       "<table border=\"1\" class=\"dataframe\">\n",
       "  <thead>\n",
       "    <tr style=\"text-align: right;\">\n",
       "      <th></th>\n",
       "      <th>CEP_INI</th>\n",
       "      <th>CEP_FIN</th>\n",
       "      <th>NOME COBERTURA</th>\n",
       "      <th>UF</th>\n",
       "      <th>FRANQUIA</th>\n",
       "      <th>EXPRESSO</th>\n",
       "      <th>CEP_RANGE</th>\n",
       "    </tr>\n",
       "  </thead>\n",
       "  <tbody>\n",
       "    <tr>\n",
       "      <th>0</th>\n",
       "      <td>16800000</td>\n",
       "      <td>16849999</td>\n",
       "      <td>MIRANDOPOLIS</td>\n",
       "      <td>SP</td>\n",
       "      <td>AAN</td>\n",
       "      <td>ATENDIDO</td>\n",
       "      <td>[16800000, 16800001, 16800002, 16800003, 16800...</td>\n",
       "    </tr>\n",
       "    <tr>\n",
       "      <th>1</th>\n",
       "      <td>16900001</td>\n",
       "      <td>16905265</td>\n",
       "      <td>ANDRADINA</td>\n",
       "      <td>SP</td>\n",
       "      <td>AAN</td>\n",
       "      <td>ATENDIDO</td>\n",
       "      <td>[16900001, 16900002, 16900003, 16900004, 16900...</td>\n",
       "    </tr>\n",
       "    <tr>\n",
       "      <th>2</th>\n",
       "      <td>16920000</td>\n",
       "      <td>16939999</td>\n",
       "      <td>CASTILHO</td>\n",
       "      <td>SP</td>\n",
       "      <td>AAN</td>\n",
       "      <td>ATENDIDO</td>\n",
       "      <td>[16920000, 16920001, 16920002, 16920003, 16920...</td>\n",
       "    </tr>\n",
       "    <tr>\n",
       "      <th>3</th>\n",
       "      <td>16950000</td>\n",
       "      <td>16979999</td>\n",
       "      <td>MURUTINGA DO SUL</td>\n",
       "      <td>SP</td>\n",
       "      <td>AAN</td>\n",
       "      <td>ATENDIDO</td>\n",
       "      <td>[16950000, 16950001, 16950002, 16950003, 16950...</td>\n",
       "    </tr>\n",
       "    <tr>\n",
       "      <th>4</th>\n",
       "      <td>16980000</td>\n",
       "      <td>16999999</td>\n",
       "      <td>GUARACAI</td>\n",
       "      <td>SP</td>\n",
       "      <td>AAN</td>\n",
       "      <td>ATENDIDO</td>\n",
       "      <td>[16980000, 16980001, 16980002, 16980003, 16980...</td>\n",
       "    </tr>\n",
       "  </tbody>\n",
       "</table>\n",
       "</div>"
      ],
      "text/plain": [
       "    CEP_INI   CEP_FIN    NOME COBERTURA  UF FRANQUIA  EXPRESSO  \\\n",
       "0  16800000  16849999      MIRANDOPOLIS  SP      AAN  ATENDIDO   \n",
       "1  16900001  16905265         ANDRADINA  SP      AAN  ATENDIDO   \n",
       "2  16920000  16939999          CASTILHO  SP      AAN  ATENDIDO   \n",
       "3  16950000  16979999  MURUTINGA DO SUL  SP      AAN  ATENDIDO   \n",
       "4  16980000  16999999          GUARACAI  SP      AAN  ATENDIDO   \n",
       "\n",
       "                                           CEP_RANGE  \n",
       "0  [16800000, 16800001, 16800002, 16800003, 16800...  \n",
       "1  [16900001, 16900002, 16900003, 16900004, 16900...  \n",
       "2  [16920000, 16920001, 16920002, 16920003, 16920...  \n",
       "3  [16950000, 16950001, 16950002, 16950003, 16950...  \n",
       "4  [16980000, 16980001, 16980002, 16980003, 16980...  "
      ]
     },
     "execution_count": 164,
     "metadata": {},
     "output_type": "execute_result"
    }
   ],
   "source": [
    "data_express.head(5)"
   ]
  },
  {
   "cell_type": "code",
   "execution_count": 200,
   "id": "c0fb0c9c",
   "metadata": {},
   "outputs": [
    {
     "data": {
      "text/plain": [
       "CEP              int64\n",
       "to_country_id    int64\n",
       "dtype: object"
      ]
     },
     "execution_count": 200,
     "metadata": {},
     "output_type": "execute_result"
    }
   ],
   "source": [
    "data_shipments.dtypes"
   ]
  },
  {
   "cell_type": "code",
   "execution_count": 185,
   "id": "2a766856",
   "metadata": {},
   "outputs": [],
   "source": [
    "match_values = data_shipments['CEP'].isin(data_express['CEP_RANGE'])"
   ]
  },
  {
   "cell_type": "code",
   "execution_count": 201,
   "id": "8a9e7744",
   "metadata": {},
   "outputs": [],
   "source": [
    "porcentagem = (match_values.sum() / len(data_shipments)) * 100"
   ]
  },
  {
   "cell_type": "code",
   "execution_count": 202,
   "id": "bccab444",
   "metadata": {},
   "outputs": [
    {
     "data": {
      "text/plain": [
       "0.0"
      ]
     },
     "execution_count": 202,
     "metadata": {},
     "output_type": "execute_result"
    }
   ],
   "source": []
  },
  {
   "cell_type": "code",
   "execution_count": null,
   "id": "a8bf958b",
   "metadata": {},
   "outputs": [],
   "source": []
  }
 ],
 "metadata": {
  "kernelspec": {
   "display_name": "Python 3 (ipykernel)",
   "language": "python",
   "name": "python3"
  },
  "language_info": {
   "codemirror_mode": {
    "name": "ipython",
    "version": 3
   },
   "file_extension": ".py",
   "mimetype": "text/x-python",
   "name": "python",
   "nbconvert_exporter": "python",
   "pygments_lexer": "ipython3",
   "version": "3.10.11"
  }
 },
 "nbformat": 4,
 "nbformat_minor": 5
}
